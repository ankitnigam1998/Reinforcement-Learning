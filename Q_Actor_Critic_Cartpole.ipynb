{
  "nbformat": 4,
  "nbformat_minor": 0,
  "metadata": {
    "colab": {
      "provenance": []
    },
    "kernelspec": {
      "name": "python3",
      "display_name": "Python 3"
    },
    "language_info": {
      "name": "python"
    }
  },
  "cells": [
    {
      "cell_type": "code",
      "source": [
        "import gym\n",
        "import numpy as np\n",
        "import tensorflow as tf\n",
        "from tensorflow.keras import layers\n",
        "import matplotlib.pyplot as plt"
      ],
      "metadata": {
        "id": "_asT-5qdoECP"
      },
      "execution_count": 3,
      "outputs": []
    },
    {
      "cell_type": "code",
      "source": [
        "env = gym.make(\"CartPole-v1\")\n",
        "num_states = env.observation_space.shape[0]\n",
        "num_actions = env.action_space.n\n",
        "num_episodes = 500\n",
        "gamma = 0.99\n",
        "learning_rate = 0.001\n"
      ],
      "metadata": {
        "id": "oA4GXgMEoSmr"
      },
      "execution_count": 4,
      "outputs": []
    },
    {
      "cell_type": "code",
      "source": [
        "class ActorCritic(tf.keras.Model):\n",
        "    def __init__(self, num_actions):\n",
        "        super().__init__()\n",
        "        self.common = layers.Dense(32, activation=\"relu\")\n",
        "        self.actor = layers.Dense(num_actions, activation=\"softmax\")\n",
        "        self.critic = layers.Dense(1)\n",
        "\n",
        "    def call(self, inputs):\n",
        "        x = self.common(inputs)\n",
        "        return self.actor(x), self.critic(x)"
      ],
      "metadata": {
        "id": "aB4X_M6noUMV"
      },
      "execution_count": 5,
      "outputs": []
    },
    {
      "cell_type": "code",
      "source": [
        "class QActorCriticAgent:\n",
        "    def __init__(self, num_states, num_actions):\n",
        "        self.num_states = num_states\n",
        "        self.num_actions = num_actions\n",
        "        self.model = ActorCritic(num_actions)\n",
        "        self.optimizer = tf.keras.optimizers.Adam(learning_rate)\n",
        "\n",
        "    def act(self, state):\n",
        "        state = np.expand_dims(state, axis=0)\n",
        "        action_probs, _ = self.model.predict(state)\n",
        "        action = np.random.choice(self.num_actions, p=np.squeeze(action_probs))\n",
        "        return action\n",
        "\n",
        "    def update(self, state, action, reward, next_state, done):\n",
        "        state = np.expand_dims(state, axis=0)\n",
        "        next_state = np.expand_dims(next_state, axis=0)\n",
        "\n",
        "        _, critic_value = self.model.predict(state)\n",
        "        _, next_critic_value = self.model.predict(next_state)\n",
        "\n",
        "        target = reward + gamma * next_critic_value * (1 - int(done))\n",
        "        td_error = target - critic_value\n",
        "\n",
        "        with tf.GradientTape() as tape:\n",
        "            action_probs, critic_value = self.model(state)\n",
        "            _, next_critic_value = self.model(next_state)\n",
        "\n",
        "            target = reward + gamma * next_critic_value * (1 - int(done))\n",
        "            td_error = target - critic_value\n",
        "\n",
        "            log_action_probs = tf.math.log(action_probs)\n",
        "            log_prob = tf.reduce_sum(\n",
        "                tf.one_hot(action, self.num_actions) * log_action_probs, axis=1\n",
        "            )\n",
        "\n",
        "            actor_loss = -tf.reduce_mean(log_prob * td_error)\n",
        "            critic_loss = td_error ** 2\n",
        "            total_loss = actor_loss + 0.5 * critic_loss\n",
        "\n",
        "        grads = tape.gradient(total_loss, self.model.trainable_variables)\n",
        "        self.optimizer.apply_gradients(zip(grads, self.model.trainable_variables))\n"
      ],
      "metadata": {
        "id": "2hX62LTj9ymg"
      },
      "execution_count": 6,
      "outputs": []
    },
    {
      "cell_type": "code",
      "source": [
        "agent = QActorCriticAgent(num_states, num_actions)\n",
        "episode_rewards = []\n",
        "\n",
        "for episode in range(num_episodes):\n",
        "    state = env.reset()\n",
        "    episode_reward = 0\n",
        "\n",
        "    while True:\n",
        "        action = agent.act(state)\n",
        "        next_state, reward, done, _ = env.step(action)\n",
        "        agent.update(state, action, reward, next_state, done)\n",
        "\n",
        "        state = next_state\n",
        "        episode_reward += reward\n",
        "\n",
        "        if done:\n",
        "            break\n",
        "\n",
        "    episode_rewards.append(episode_reward)\n",
        "    print(f\"Episode {episode + 1}: reward = {episode_reward}\")\n"
      ],
      "metadata": {
        "id": "Z2gn7YUc9zfN"
      },
      "execution_count": 13,
      "outputs": []
    },
    {
      "cell_type": "code",
      "source": [
        "import matplotlib.pyplot as plt\n",
        "\n",
        "plt.plot(episode_rewards)\n",
        "plt.xlabel(\"Episode\")\n",
        "plt.ylabel(\"Total Reward\")\n",
        "plt.show()\n",
        "plt.savefig('Total_Reward_QAC_Cartpole')"
      ],
      "metadata": {
        "colab": {
          "base_uri": "https://localhost:8080/"
        },
        "id": "46aXmiFx91FR",
        "outputId": "a934711f-8506-4798-e1eb-9a02f4ab6371"
      },
      "execution_count": 14,
      "outputs": [
        {
          "output_type": "stream",
          "name": "stderr",
          "text": [
            "/usr/local/lib/python3.9/dist-packages/ipykernel/ipkernel.py:283: DeprecationWarning: `should_run_async` will not call `transform_cell` automatically in the future. Please pass the result to `transformed_cell` argument and any exception that happen during thetransform in `preprocessing_exc_tuple` in IPython 7.17 and above.\n",
            "  and should_run_async(code)\n"
          ]
        }
      ]
    },
    {
      "cell_type": "markdown",
      "source": [
        "# Testing the agent for 20 Episodes (Agent choosing only greedy actions from the learnt policy)"
      ],
      "metadata": {
        "id": "yO1BO9rq-pYp"
      }
    },
    {
      "cell_type": "code",
      "source": [
        "test_episode_rewards = []\n",
        "\n",
        "for episode in range(20):\n",
        "    state = env.reset()\n",
        "    episode_reward = 0\n",
        "\n",
        "    while True:\n",
        "        action_probs, _ = agent.model.predict(np.expand_dims(state, axis=0))\n",
        "        action = np.argmax(action_probs)\n",
        "\n",
        "        next_state, reward, done, _ = env.step(action)\n",
        "\n",
        "        state = next_state\n",
        "        episode_reward += reward\n",
        "\n",
        "        if done:\n",
        "            break\n",
        "\n",
        "    test_episode_rewards.append(episode_reward)\n",
        "    print(f\"Test episode {episode + 1}: reward = {episode_reward}\")\n",
        "\n",
        "plt.plot(test_episode_rewards)\n",
        "plt.xlabel(\"Episode\")\n",
        "plt.ylabel(\"Total Reward\")\n",
        "plt.show()\n",
        "plt.savefig('Testing_Total_Reward_QAC_Cartpole')"
      ],
      "metadata": {
        "id": "KPaJA-MP-kEU"
      },
      "execution_count": 15,
      "outputs": []
    },
    {
      "cell_type": "code",
      "source": [],
      "metadata": {
        "id": "AupmlqKy_V4L"
      },
      "execution_count": null,
      "outputs": []
    }
  ]
}