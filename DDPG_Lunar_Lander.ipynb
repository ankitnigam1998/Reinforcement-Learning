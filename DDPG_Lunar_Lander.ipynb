{
  "nbformat": 4,
  "nbformat_minor": 0,
  "metadata": {
    "colab": {
      "provenance": []
    },
    "kernelspec": {
      "name": "python3",
      "display_name": "Python 3"
    },
    "language_info": {
      "name": "python"
    }
  },
  "cells": [
    {
      "cell_type": "code",
      "source": [
        "pip install gym[box2d]"
      ],
      "metadata": {
        "colab": {
          "base_uri": "https://localhost:8080/"
        },
        "id": "Xs_K5C1SFmk3",
        "outputId": "c07a5da5-b9ee-4363-c83b-5e58a47d201c"
      },
      "execution_count": 5,
      "outputs": [
        {
          "output_type": "stream",
          "name": "stdout",
          "text": [
            "Looking in indexes: https://pypi.org/simple, https://us-python.pkg.dev/colab-wheels/public/simple/\n",
            "Requirement already satisfied: gym[box2d] in /usr/local/lib/python3.9/dist-packages (0.25.2)\n",
            "Requirement already satisfied: numpy>=1.18.0 in /usr/local/lib/python3.9/dist-packages (from gym[box2d]) (1.22.4)\n",
            "Requirement already satisfied: gym-notices>=0.0.4 in /usr/local/lib/python3.9/dist-packages (from gym[box2d]) (0.0.8)\n",
            "Requirement already satisfied: cloudpickle>=1.2.0 in /usr/local/lib/python3.9/dist-packages (from gym[box2d]) (2.2.1)\n",
            "Requirement already satisfied: importlib-metadata>=4.8.0 in /usr/local/lib/python3.9/dist-packages (from gym[box2d]) (6.4.1)\n",
            "Collecting swig==4.*\n",
            "  Downloading swig-4.1.1-py2.py3-none-manylinux_2_5_x86_64.manylinux1_x86_64.whl (1.8 MB)\n",
            "\u001b[2K     \u001b[90m━━━━━━━━━━━━━━━━━━━━━━━━━━━━━━━━━━━━━━━━\u001b[0m \u001b[32m1.8/1.8 MB\u001b[0m \u001b[31m12.5 MB/s\u001b[0m eta \u001b[36m0:00:00\u001b[0m\n",
            "\u001b[?25hCollecting box2d-py==2.3.5\n",
            "  Downloading box2d-py-2.3.5.tar.gz (374 kB)\n",
            "\u001b[2K     \u001b[90m━━━━━━━━━━━━━━━━━━━━━━━━━━━━━━━━━━━━━━\u001b[0m \u001b[32m374.4/374.4 kB\u001b[0m \u001b[31m34.2 MB/s\u001b[0m eta \u001b[36m0:00:00\u001b[0m\n",
            "\u001b[?25h  Preparing metadata (setup.py) ... \u001b[?25l\u001b[?25hdone\n",
            "Collecting pygame==2.1.0\n",
            "  Downloading pygame-2.1.0-cp39-cp39-manylinux_2_17_x86_64.manylinux2014_x86_64.whl (18.3 MB)\n",
            "\u001b[2K     \u001b[90m━━━━━━━━━━━━━━━━━━━━━━━━━━━━━━━━━━━━━━━━\u001b[0m \u001b[32m18.3/18.3 MB\u001b[0m \u001b[31m60.6 MB/s\u001b[0m eta \u001b[36m0:00:00\u001b[0m\n",
            "\u001b[?25hRequirement already satisfied: zipp>=0.5 in /usr/local/lib/python3.9/dist-packages (from importlib-metadata>=4.8.0->gym[box2d]) (3.15.0)\n",
            "Building wheels for collected packages: box2d-py\n",
            "  \u001b[1;31merror\u001b[0m: \u001b[1msubprocess-exited-with-error\u001b[0m\n",
            "  \n",
            "  \u001b[31m×\u001b[0m \u001b[32mpython setup.py bdist_wheel\u001b[0m did not run successfully.\n",
            "  \u001b[31m│\u001b[0m exit code: \u001b[1;36m1\u001b[0m\n",
            "  \u001b[31m╰─>\u001b[0m See above for output.\n",
            "  \n",
            "  \u001b[1;35mnote\u001b[0m: This error originates from a subprocess, and is likely not a problem with pip.\n",
            "  Building wheel for box2d-py (setup.py) ... \u001b[?25lerror\n",
            "\u001b[31m  ERROR: Failed building wheel for box2d-py\u001b[0m\u001b[31m\n",
            "\u001b[0m\u001b[?25h  Running setup.py clean for box2d-py\n",
            "Failed to build box2d-py\n",
            "Installing collected packages: swig, box2d-py, pygame\n",
            "  Running setup.py install for box2d-py ... \u001b[?25l\u001b[?25hdone\n",
            "\u001b[33m  DEPRECATION: box2d-py was installed using the legacy 'setup.py install' method, because a wheel could not be built for it. pip 23.1 will enforce this behaviour change. A possible replacement is to fix the wheel build issue reported above. Discussion can be found at https://github.com/pypa/pip/issues/8368\u001b[0m\u001b[33m\n",
            "\u001b[0m  Attempting uninstall: pygame\n",
            "    Found existing installation: pygame 2.3.0\n",
            "    Uninstalling pygame-2.3.0:\n",
            "      Successfully uninstalled pygame-2.3.0\n",
            "Successfully installed box2d-py-2.3.5 pygame-2.1.0 swig-4.1.1\n"
          ]
        }
      ]
    },
    {
      "cell_type": "code",
      "execution_count": 6,
      "metadata": {
        "id": "S43qBt_QFGMB"
      },
      "outputs": [],
      "source": [
        "import gym\n",
        "import tensorflow as tf\n",
        "from tensorflow.keras import layers\n",
        "import numpy as np"
      ]
    },
    {
      "cell_type": "code",
      "source": [
        "# Hyperparameters\n",
        "BUFFER_SIZE = 1000000\n",
        "BATCH_SIZE = 256\n",
        "GAMMA = 0.99\n",
        "TAU = 0.001\n",
        "CRITIC_LEARNING_RATE = 0.001\n",
        "ACTOR_LEARNING_RATE = 0.0001\n",
        "EXPLORATION = 0.1\n",
        "\n",
        "# Create environment\n",
        "env = gym.make('LunarLanderContinuous-v2')\n",
        "state_dim = env.observation_space.shape[0]\n",
        "action_dim = env.action_space.shape[0]\n",
        "action_max = env.action_space.high[0]"
      ],
      "metadata": {
        "colab": {
          "base_uri": "https://localhost:8080/"
        },
        "id": "TLKXlbSDFIPk",
        "outputId": "f814e0bd-2ac3-43c0-bf70-0dadf290c357"
      },
      "execution_count": 7,
      "outputs": [
        {
          "output_type": "stream",
          "name": "stderr",
          "text": [
            "/usr/local/lib/python3.9/dist-packages/gym/core.py:317: DeprecationWarning: \u001b[33mWARN: Initializing wrapper in old step API which returns one bool instead of two. It is recommended to set `new_step_api=True` to use new step API. This will be the default behaviour in future.\u001b[0m\n",
            "  deprecation(\n",
            "/usr/local/lib/python3.9/dist-packages/gym/wrappers/step_api_compatibility.py:39: DeprecationWarning: \u001b[33mWARN: Initializing environment in old step API which returns one bool instead of two. It is recommended to set `new_step_api=True` to use new step API. This will be the default behaviour in future.\u001b[0m\n",
            "  deprecation(\n"
          ]
        }
      ]
    },
    {
      "cell_type": "code",
      "source": [
        "# Actor network\n",
        "class Actor(tf.keras.Model):\n",
        "    def __init__(self):\n",
        "        super().__init__()\n",
        "        self.fc1 = layers.Dense(256, activation='relu')\n",
        "        self.fc2 = layers.Dense(128, activation='relu')\n",
        "        self.fc3 = layers.Dense(action_dim, activation='tanh')\n",
        "\n",
        "    def call(self, state):\n",
        "        x = self.fc1(state)\n",
        "        x = self.fc2(x)\n",
        "        x = self.fc3(x)\n",
        "        return x * action_max\n",
        "\n",
        "# Critic network\n",
        "class Critic(tf.keras.Model):\n",
        "    def __init__(self):\n",
        "        super().__init__()\n",
        "        self.fc1 = layers.Dense(256, activation='relu')\n",
        "        self.fc2 = layers.Dense(128, activation='relu')\n",
        "        self.fc3 = layers.Dense(1)\n",
        "\n",
        "    def call(self, state, action):\n",
        "        x = tf.concat([state, action], axis=-1)\n",
        "        x = self.fc1(x)\n",
        "        x = self.fc2(x)\n",
        "        x = self.fc3(x)\n",
        "        return x"
      ],
      "metadata": {
        "id": "Dw0SGOTAFJ7h"
      },
      "execution_count": 8,
      "outputs": []
    },
    {
      "cell_type": "code",
      "source": [
        "# Replay buffer\n",
        "class ReplayBuffer():\n",
        "    def __init__(self):\n",
        "        self.buffer = []\n",
        "        self.max_size = BUFFER_SIZE\n",
        "\n",
        "    def add(self, state, action, reward, next_state, done):\n",
        "        experience = (state, action, reward, next_state, done)\n",
        "        if len(self.buffer) >= self.max_size:\n",
        "            self.buffer.pop(0)\n",
        "        self.buffer.append(experience)\n",
        "\n",
        "    def sample(self, batch_size):\n",
        "        buffer_size = len(self.buffer)\n",
        "        index = np.random.choice(np.arange(buffer_size), size=batch_size, replace=False)\n",
        "        state, action, reward, next_state, done = [], [], [], [], []\n",
        "        for i in index:\n",
        "            s, a, r, s_, d = self.buffer[i]\n",
        "            state.append(np.array(s, copy=False))\n",
        "            action.append(np.array(a, copy=False))\n",
        "            reward.append(np.array(r, copy=False))\n",
        "            next_state.append(np.array(s_, copy=False))\n",
        "            done.append(np.array(d, copy=False))\n",
        "        return np.array(state), np.array(action), np.array(reward, dtype=np.float32), np.array(next_state), np.array(done, dtype=np.float32)"
      ],
      "metadata": {
        "id": "GOO60CYoFL7y"
      },
      "execution_count": 9,
      "outputs": []
    },
    {
      "cell_type": "code",
      "source": [
        "# DDPG agent\n",
        "class DDPGAgent:\n",
        "    def __init__(self, state_dim, action_dim, critic_lr=1e-3, actor_lr=1e-4):\n",
        "        self.state_dim = state_dim\n",
        "        self.action_dim = action_dim\n",
        "        self.actor = self.build_actor()\n",
        "        self.critic = self.build_critic()\n",
        "        self.target_actor = self.build_actor()\n",
        "        self.target_critic = self.build_critic()\n",
        "        self.replay_buffer = ReplayBuffer()\n",
        "        self.total_reward = []\n",
        "        self.avg_reward = []\n",
        "        self.actor_optimizer = tf.keras.optimizers.Adam(actor_lr)\n",
        "        self.critic_optimizer = tf.keras.optimizers.Adam(critic_lr)\n",
        "\n",
        "\n",
        "    def build_actor(self):\n",
        "        input_layer = tf.keras.layers.Input(shape=(self.state_dim,))\n",
        "        x = tf.keras.layers.Dense(128, activation='relu')(input_layer)\n",
        "        x = tf.keras.layers.Dense(128, activation='relu')(x)\n",
        "        output_layer = tf.keras.layers.Dense(self.action_dim, activation='tanh')(x)\n",
        "        return tf.keras.Model(inputs=input_layer, outputs=output_layer)\n",
        "\n",
        "    def build_critic(self):\n",
        "        state_input = tf.keras.layers.Input(shape=(self.state_dim,))\n",
        "        action_input = tf.keras.layers.Input(shape=(self.action_dim,))\n",
        "        x = tf.keras.layers.concatenate([state_input, action_input])\n",
        "        x = tf.keras.layers.Dense(128, activation='relu')(x)\n",
        "        x = tf.keras.layers.Dense(128, activation='relu')(x)\n",
        "        output_layer = tf.keras.layers.Dense(1)(x)\n",
        "        return tf.keras.Model(inputs=[state_input, action_input], outputs=output_layer)\n",
        "\n",
        "    def get_action(self, state, exploration=0.1):\n",
        "        actions = self.actor(tf.convert_to_tensor([state], dtype=tf.float32))\n",
        "        action_max = env.action_space.high[0]\n",
        "        action_dim = env.action_space.shape[0]\n",
        "        actions += tf.random.normal(shape=[action_dim], mean=0.0, stddev=exploration)\n",
        "        actions = tf.clip_by_value(actions, -action_max, action_max)\n",
        "        return actions[0]\n",
        "\n",
        "        \n",
        "    def train(self, episodes=1000, steps_per_episode=200):\n",
        "        for episode in range(episodes):\n",
        "            state = env.reset()\n",
        "            episode_reward = 0\n",
        "            for step in range(steps_per_episode):\n",
        "                action = self.get_action(state, exploration=EXPLORATION)\n",
        "                next_state, reward, done, _ = env.step(action)\n",
        "\n",
        "                self.replay_buffer.add(state, action, reward, next_state, done)\n",
        "                if len(self.replay_buffer.buffer) >= BATCH_SIZE:\n",
        "                    state_batch, action_batch, reward_batch, next_state_batch, done_batch = self.replay_buffer.sample(BATCH_SIZE)\n",
        "                    self.train_critic(state_batch, action_batch, reward_batch, next_state_batch, done_batch)\n",
        "                    self.train_actor(state_batch)\n",
        "\n",
        "                state = next_state\n",
        "                episode_reward += reward\n",
        "                if done:\n",
        "                    break\n",
        "\n",
        "            self.total_reward.append(episode_reward)\n",
        "            self.avg_reward.append(np.mean(self.total_reward[-100:]))\n",
        "            print(\"Episode: {}, Total Reward: {:.2f}, Average Reward (last 100 episodes): {:.2f}\".format(episode + 1, episode_reward, self.avg_reward[-1]))\n",
        "\n",
        "            self.update_target_networks()\n",
        "\n",
        "    def train_actor(self, state_batch):\n",
        "        with tf.GradientTape() as tape:\n",
        "            action_batch = self.actor(state_batch)\n",
        "            q_values = self.critic([state_batch, action_batch])\n",
        "            actor_loss = -tf.math.reduce_mean(q_values)\n",
        "        actor_gradients = tape.gradient(actor_loss, self.actor.trainable_variables)\n",
        "        self.actor_optimizer.apply_gradients(zip(actor_gradients, self.actor.trainable_variables))\n",
        "\n",
        "    def train_critic(self, state_batch, action_batch, reward_batch, next_state_batch, done_batch):\n",
        "        with tf.GradientTape() as tape:\n",
        "            target_actions = self.target_actor(next_state_batch)\n",
        "            target_q_values = self.target_critic([next_state_batch, target_actions])\n",
        "            y = reward_batch + (1 - done_batch) * GAMMA * target_q_values\n",
        "            q_values = self.critic([state_batch, action_batch])\n",
        "            critic_loss = tf.math.reduce_mean(tf.math.square(y - q_values))\n",
        "        critic_gradients = tape.gradient(critic_loss, self.critic.trainable_variables)\n",
        "        self.critic_optimizer.apply_gradients(zip(critic_gradients, self.critic.trainable_variables))\n",
        "\n",
        "    def update_target_networks(self):\n",
        "        for source, target in zip(self.actor.variables, self.target_actor.variables):\n",
        "            target.assign(TAU * source + (1 - TAU) * target)\n",
        "        for source, target in zip(self.critic.variables, self.target_critic.variables):\n",
        "            target.assign(TAU * source + (1 - TAU) * target)"
      ],
      "metadata": {
        "id": "NKO0RPhDFOFb"
      },
      "execution_count": 20,
      "outputs": []
    },
    {
      "cell_type": "code",
      "source": [
        "# Define hyperparameters\n",
        "BUFFER_SIZE = int(1e6)  # replay buffer size\n",
        "BATCH_SIZE = 256  # minibatch size\n",
        "GAMMA = 0.99  # discount factor\n",
        "TAU = 0.005  # for soft update of target parameters\n",
        "CRITIC_LR = 1e-3  # learning rate for the critic optimizer\n",
        "ACTOR_LR = 1e-4  # learning rate for the actor optimizer\n"
      ],
      "metadata": {
        "id": "LMDbUAuPL4VK"
      },
      "execution_count": 21,
      "outputs": []
    },
    {
      "cell_type": "code",
      "source": [
        "# Train the agent\n",
        "state_dim = env.observation_space.shape[0]\n",
        "action_dim = env.action_space.shape[0]\n",
        "agent = DDPGAgent(state_dim, action_dim, critic_lr=CRITIC_LR, actor_lr=ACTOR_LR)\n",
        "agent.train()\n",
        "\n",
        "# Plot the total reward per episode\n",
        "import matplotlib.pyplot as plt\n",
        "\n",
        "plt.plot(agent.total_reward)\n",
        "plt.title(\"Total Reward per Episode\")\n",
        "plt.xlabel(\"Episode\")\n",
        "plt.ylabel(\"Reward\")\n",
        "plt.show()\n",
        "plt.savefig(\"DDPG_LunarLander_Total_Rewards.png\")"
      ],
      "metadata": {
        "colab": {
          "base_uri": "https://localhost:8080/",
          "height": 490
        },
        "id": "Gf3QdpUOFe1a",
        "outputId": "94b9561b-3d0d-436b-9e10-784290cfd1ab"
      },
      "execution_count": 23,
      "outputs": [
        {
          "output_type": "stream",
          "name": "stdout",
          "text": [
            "Episode: 1, Total Reward: -7.72, Average Reward (last 100 episodes): -7.72\n"
          ]
        },
        {
          "output_type": "display_data",
          "data": {
            "text/plain": [
              "<Figure size 640x480 with 1 Axes>"
            ],
            "image/png": "[encoded data removed]"
          },
          "metadata": {}
        }
      ]
    },
    {
      "cell_type": "markdown",
      "source": [
        "# **Testing agent for 20 episodes**"
      ],
      "metadata": {
        "id": "yEbuZ6rDNMj-"
      }
    },
    {
      "cell_type": "code",
      "source": [
        "# Test the agent\n",
        "total_rewards = []\n",
        "for i in range(20):\n",
        "    state = env.reset()\n",
        "    done = False\n",
        "    total_reward = 0\n",
        "    while not done:\n",
        "        action = agent.get_action(state, False)  # Choose greedy action\n",
        "        next_state, reward, done, info = env.step(action)\n",
        "        total_reward += reward\n",
        "        state = next_state\n",
        "    total_rewards.append(total_reward)\n",
        "    print(\"Episode {}: Total Reward = {}\".format(i+1, total_reward))\n",
        "\n",
        "# Plot the total reward per episode\n",
        "plt.plot(total_rewards)\n",
        "plt.xlabel(\"Episode\")\n",
        "plt.ylabel(\"Total Reward\")\n",
        "plt.title(\"Total Reward per Episode (Greedy Policy)\")\n",
        "plt.show()\n",
        "plt.savefig(\"DDPG_LunarLander_Testing_Rewards.png\")"
      ],
      "metadata": {
        "colab": {
          "base_uri": "https://localhost:8080/",
          "height": 490
        },
        "id": "mr2PqPGMNWbA",
        "outputId": "dac603a4-5848-45a3-9d51-c44993c1bf87"
      },
      "execution_count": 25,
      "outputs": [
        {
          "output_type": "stream",
          "name": "stdout",
          "text": [
            "Episode 1: Total Reward = -139.43213274818874\n"
          ]
        },
        {
          "output_type": "display_data",
          "data": {
            "text/plain": [
              "<Figure size 640x480 with 1 Axes>"
            ],
            "image/png": "[encoded data removed]"
          },
          "metadata": {}
        }
      ]
    },
    {
      "cell_type": "code",
      "source": [],
      "metadata": {
        "id": "3t7YrrLFNYdi"
      },
      "execution_count": null,
      "outputs": []
    }
  ]
}