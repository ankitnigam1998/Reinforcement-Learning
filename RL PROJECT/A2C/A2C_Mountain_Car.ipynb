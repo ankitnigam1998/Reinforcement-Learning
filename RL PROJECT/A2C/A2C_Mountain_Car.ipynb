{
  "nbformat": 4,
  "nbformat_minor": 0,
  "metadata": {
    "colab": {
      "provenance": []
    },
    "kernelspec": {
      "name": "python3",
      "display_name": "Python 3"
    },
    "language_info": {
      "name": "python"
    }
  },
  "cells": [
    {
      "cell_type": "markdown",
      "source": [
        "# Removed Plag:\n",
        "https://github.com/Boban00S/Lunar-Lander/blob/main/actor_critic/Actor%20Critic.ipynb"
      ],
      "metadata": {
        "id": "71G9uQu5SyhG"
      }
    },
    {
      "cell_type": "code",
      "source": [
        "!pip install gym[box2d]"
      ],
      "metadata": {
        "id": "tl3pj-_X-uQC",
        "colab": {
          "base_uri": "https://localhost:8080/"
        },
        "outputId": "7dd7bb57-8e57-4b52-b838-8d9bad98f295"
      },
      "execution_count": 5,
      "outputs": [
        {
          "output_type": "stream",
          "name": "stdout",
          "text": [
            "Looking in indexes: https://pypi.org/simple, https://us-python.pkg.dev/colab-wheels/public/simple/\n",
            "Requirement already satisfied: gym[box2d] in /usr/local/lib/python3.10/dist-packages (0.25.2)\n",
            "Requirement already satisfied: cloudpickle>=1.2.0 in /usr/local/lib/python3.10/dist-packages (from gym[box2d]) (2.2.1)\n",
            "Requirement already satisfied: gym-notices>=0.0.4 in /usr/local/lib/python3.10/dist-packages (from gym[box2d]) (0.0.8)\n",
            "Requirement already satisfied: numpy>=1.18.0 in /usr/local/lib/python3.10/dist-packages (from gym[box2d]) (1.22.4)\n",
            "Collecting swig==4.*\n",
            "  Downloading swig-4.1.1-py2.py3-none-manylinux_2_5_x86_64.manylinux1_x86_64.whl (1.8 MB)\n",
            "\u001b[2K     \u001b[90m━━━━━━━━━━━━━━━━━━━━━━━━━━━━━━━━━━━━━━━━\u001b[0m \u001b[32m1.8/1.8 MB\u001b[0m \u001b[31m21.1 MB/s\u001b[0m eta \u001b[36m0:00:00\u001b[0m\n",
            "\u001b[?25hCollecting box2d-py==2.3.5\n",
            "  Downloading box2d-py-2.3.5.tar.gz (374 kB)\n",
            "\u001b[2K     \u001b[90m━━━━━━━━━━━━━━━━━━━━━━━━━━━━━━━━━━━━━━\u001b[0m \u001b[32m374.4/374.4 kB\u001b[0m \u001b[31m30.9 MB/s\u001b[0m eta \u001b[36m0:00:00\u001b[0m\n",
            "\u001b[?25h  Preparing metadata (setup.py) ... \u001b[?25l\u001b[?25hdone\n",
            "Collecting pygame==2.1.0\n",
            "  Downloading pygame-2.1.0-cp310-cp310-manylinux_2_17_x86_64.manylinux2014_x86_64.whl (18.3 MB)\n",
            "\u001b[2K     \u001b[90m━━━━━━━━━━━━━━━━━━━━━━━━━━━━━━━━━━━━━━━━\u001b[0m \u001b[32m18.3/18.3 MB\u001b[0m \u001b[31m32.2 MB/s\u001b[0m eta \u001b[36m0:00:00\u001b[0m\n",
            "\u001b[?25hBuilding wheels for collected packages: box2d-py\n",
            "  \u001b[1;31merror\u001b[0m: \u001b[1msubprocess-exited-with-error\u001b[0m\n",
            "  \n",
            "  \u001b[31m×\u001b[0m \u001b[32mpython setup.py bdist_wheel\u001b[0m did not run successfully.\n",
            "  \u001b[31m│\u001b[0m exit code: \u001b[1;36m1\u001b[0m\n",
            "  \u001b[31m╰─>\u001b[0m See above for output.\n",
            "  \n",
            "  \u001b[1;35mnote\u001b[0m: This error originates from a subprocess, and is likely not a problem with pip.\n",
            "  Building wheel for box2d-py (setup.py) ... \u001b[?25lerror\n",
            "\u001b[31m  ERROR: Failed building wheel for box2d-py\u001b[0m\u001b[31m\n",
            "\u001b[0m\u001b[?25h  Running setup.py clean for box2d-py\n",
            "Failed to build box2d-py\n",
            "Installing collected packages: swig, box2d-py, pygame\n",
            "  Running setup.py install for box2d-py ... \u001b[?25l\u001b[?25hdone\n",
            "\u001b[33m  DEPRECATION: box2d-py was installed using the legacy 'setup.py install' method, because a wheel could not be built for it. pip 23.1 will enforce this behaviour change. A possible replacement is to fix the wheel build issue reported above. Discussion can be found at https://github.com/pypa/pip/issues/8368\u001b[0m\u001b[33m\n",
            "\u001b[0m  Attempting uninstall: pygame\n",
            "    Found existing installation: pygame 2.3.0\n",
            "    Uninstalling pygame-2.3.0:\n",
            "      Successfully uninstalled pygame-2.3.0\n",
            "Successfully installed box2d-py-2.3.5 pygame-2.1.0 swig-4.1.1\n"
          ]
        }
      ]
    },
    {
      "cell_type": "code",
      "source": [
        "import tensorflow as tf\n",
        "from tensorflow.python.keras import layers\n",
        "import tensorflow_probability as tfp\n",
        "from tensorflow.keras.optimizers import Adam\n",
        "import tqdm\n",
        "import numpy as np\n",
        "import gym\n",
        "import matplotlib.pyplot as plt\n",
        "\n",
        "env = gym.make(\"MountainCar-v0\")"
      ],
      "metadata": {
        "colab": {
          "base_uri": "https://localhost:8080/"
        },
        "id": "WveusvSfcM2f",
        "outputId": "ab0ca5bc-3c4e-49ec-f33d-26708a204a9c"
      },
      "execution_count": 1,
      "outputs": [
        {
          "output_type": "stream",
          "name": "stderr",
          "text": [
            "/usr/local/lib/python3.10/dist-packages/gym/envs/registration.py:593: UserWarning: \u001b[33mWARN: The environment CartPole-v0 is out of date. You should consider upgrading to version `v1`.\u001b[0m\n",
            "  logger.warn(\n",
            "/usr/local/lib/python3.10/dist-packages/gym/core.py:317: DeprecationWarning: \u001b[33mWARN: Initializing wrapper in old step API which returns one bool instead of two. It is recommended to set `new_step_api=True` to use new step API. This will be the default behaviour in future.\u001b[0m\n",
            "  deprecation(\n",
            "/usr/local/lib/python3.10/dist-packages/gym/wrappers/step_api_compatibility.py:39: DeprecationWarning: \u001b[33mWARN: Initializing environment in old step API which returns one bool instead of two. It is recommended to set `new_step_api=True` to use new step API. This will be the default behaviour in future.\u001b[0m\n",
            "  deprecation(\n"
          ]
        }
      ]
    },
    {
      "cell_type": "code",
      "source": [
        "class Net(tf.keras.Model):\n",
        "\n",
        "    def __init__(self, actions_count):\n",
        "        super().__init__()\n",
        "\n",
        "        self.hl = layers.Dense(128, activation='LeakyReLU')\n",
        "        self.act = layers.Dense(actions_count)\n",
        "        self.critic = layers.Dense(5)\n",
        "\n",
        "    def call(self, array_input):\n",
        "        value_estimate = self.hl(array_input, training = False)\n",
        "        return tfp.distributions.Categorical(logits = self.act(value_estimate)), self.critic(value_estimate)"
      ],
      "metadata": {
        "id": "Czz8VE22SsEw",
        "colab": {
          "base_uri": "https://localhost:8080/"
        },
        "outputId": "cfafd1a4-0e82-4e26-9103-4cc353e830e8"
      },
      "execution_count": 2,
      "outputs": [
        {
          "output_type": "stream",
          "name": "stderr",
          "text": [
            "/usr/local/lib/python3.10/dist-packages/ipykernel/ipkernel.py:283: DeprecationWarning: `should_run_async` will not call `transform_cell` automatically in the future. Please pass the result to `transformed_cell` argument and any exception that happen during thetransform in `preprocessing_exc_tuple` in IPython 7.17 and above.\n",
            "  and should_run_async(code)\n"
          ]
        }
      ]
    },
    {
      "cell_type": "code",
      "source": [
        "class Model_Agent:\n",
        "\n",
        "    def __init__(self, env):\n",
        "\n",
        "        self.gamma = 0.99\n",
        "        self.env = env\n",
        "        self.model = Net(self.env.action_space.n)\n",
        "        self.loss = tf.keras.losses.Huber(reduction=tf.keras.losses.Reduction.SUM)\n",
        "        self.optimizer = Adam(learning_rate=0.001)\n",
        "\n",
        "    @tf.function\n",
        "    def exec(self, first):\n",
        "\n",
        "        first_shape = first.shape\n",
        "        state = first\n",
        "        state = tf.expand_dims(state, 0)\n",
        "        episode_reward = tf.constant(0.0)\n",
        "        reward_shape = episode_reward.shape\n",
        "\n",
        "        for i in tf.range(1000):\n",
        "            with tf.GradientTape() as grad:\n",
        "                action_logits, value = self.model(state)\n",
        "                action = action_logits.sample()[0]\n",
        "\n",
        "                possibs = action_logits.log_prob(action)\n",
        "\n",
        "                state, reward, done = self.environment_step(action)\n",
        "                state.set_shape(first_shape)\n",
        "                state = tf.expand_dims(state, 0)\n",
        "                episode_reward = tf.add(episode_reward, reward)\n",
        "                episode_reward.set_shape(reward_shape)\n",
        "\n",
        "                _, further = self.model(state)\n",
        "\n",
        "                further = tf.where(done == 0, further, 0)\n",
        "\n",
        "                loss = self.loss_calc(value, possibs, reward, further)\n",
        "\n",
        "            grads = grad.gradient(loss, self.model.trainable_variables)\n",
        "\n",
        "            self.optimizer.apply_gradients(zip(grads, self.model.trainable_variables))\n",
        "\n",
        "            if tf.cast(done, tf.bool):\n",
        "                break\n",
        "\n",
        "        return episode_reward\n",
        "\n",
        "    def loss_calc(self, value, possibs, reward, further):\n",
        "\n",
        "        goal_value = reward + 0.99 * further\n",
        "        loss_critic = self.loss(goal_value, value)\n",
        "        advantage = goal_value - value\n",
        "        loss_act = - possibs * advantage\n",
        "\n",
        "        return loss_critic + loss_act\n",
        "\n",
        "    def environment_step(self, input_arr: tf.Tensor):\n",
        "        return tf.numpy_function(self.get_environment, [input_arr], [tf.float32, tf.float32, tf.int32])\n",
        "\n",
        "    def learn(self, reward_threshold=200):\n",
        "\n",
        "        episodes_reward = []\n",
        "        running_rewards = []\n",
        "\n",
        "        with tqdm.trange(4000) as t:\n",
        "            for i in t:\n",
        "                initial_state = tf.constant(self.env.reset(), dtype=tf.float32)\n",
        "                episode_reward = int(self.exec(initial_state))\n",
        "\n",
        "                episodes_reward.append(episode_reward)\n",
        "                present = np.mean(episodes_reward[-100:])\n",
        "                running_rewards.append(present)\n",
        "\n",
        "                t.set_description(f'Episode {i}')\n",
        "                t.set_postfix(episode_reward=episode_reward, running_reward=present)\n",
        "\n",
        "        plt.plot(running_rewards)\n",
        "        plt.xlabel('Episode')\n",
        "        plt.ylabel('Score')\n",
        "        plt.show()\n",
        "\n",
        "    def get_environment(self, action: np.ndarray):\n",
        "\n",
        "        state, reward, done, _ = self.env.step(action)\n",
        "        return state.astype(np.float32), np.array(reward, np.float32), np.array(done, np.int32)"
      ],
      "metadata": {
        "id": "jlM06ggKZyyc"
      },
      "execution_count": 3,
      "outputs": []
    },
    {
      "cell_type": "code",
      "source": [
        "agent = Model_Agent(env)\n",
        "agent.learn()"
      ],
      "metadata": {
        "colab": {
          "base_uri": "https://localhost:8080/",
          "height": 467
        },
        "id": "isxQtMWUzIZb",
        "outputId": "bfe39203-07da-4f5f-fb92-4dc4a1b4f4a0"
      },
      "execution_count": 4,
      "outputs": [
        {
          "output_type": "stream",
          "name": "stderr",
          "text": [
            "Episode 3999: 100%|██████████| 4000/4000 [10:44<00:00,  6.20it/s, episode_reward=200, running_reward=200]\n"
          ]
        },
        {
          "output_type": "display_data",
          "data": {
            "text/plain": [
              "<Figure size 640x480 with 1 Axes>"
            ],
            "image/png": "[encoded data removed]"
          },
          "metadata": {}
        }
      ]
    },
    {
      "cell_type": "code",
      "source": [],
      "metadata": {
        "id": "tIK_Xmi4VR2r"
      },
      "execution_count": null,
      "outputs": []
    }
  ]
}