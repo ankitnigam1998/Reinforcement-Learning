{
  "nbformat": 4,
  "nbformat_minor": 0,
  "metadata": {
    "colab": {
      "provenance": []
    },
    "kernelspec": {
      "name": "python3",
      "display_name": "Python 3"
    },
    "language_info": {
      "name": "python"
    }
  },
  "cells": [
    {
      "cell_type": "code",
      "execution_count": null,
      "metadata": {
        "colab": {
          "base_uri": "https://localhost:8080/"
        },
        "id": "ixgTgfv6u1ay",
        "outputId": "103bd462-2638-4265-bb15-a22a74500458"
      },
      "outputs": [
        {
          "output_type": "stream",
          "name": "stderr",
          "text": [
            "/usr/local/lib/python3.10/dist-packages/gym/core.py:317: DeprecationWarning: \u001b[33mWARN: Initializing wrapper in old step API which returns one bool instead of two. It is recommended to set `new_step_api=True` to use new step API. This will be the default behaviour in future.\u001b[0m\n",
            "  deprecation(\n",
            "/usr/local/lib/python3.10/dist-packages/gym/wrappers/step_api_compatibility.py:39: DeprecationWarning: \u001b[33mWARN: Initializing environment in old step API which returns one bool instead of two. It is recommended to set `new_step_api=True` to use new step API. This will be the default behaviour in future.\u001b[0m\n",
            "  deprecation(\n"
          ]
        }
      ],
      "source": [
        "import gym\n",
        "import tensorflow as tf\n",
        "import numpy as np\n",
        "import matplotlib.pyplot as plt\n",
        "\n",
        "env = gym.make('MountainCarContinuous-v0')"
      ]
    },
    {
      "cell_type": "code",
      "source": [
        "class Actor:\n",
        "    def __init__(self, state_dim, action_dim, max_action):\n",
        "        self.state_dim = state_dim\n",
        "        self.action_dim = action_dim\n",
        "        self.max_action = max_action\n",
        "\n",
        "        state_input = tf.keras.layers.Input(shape=(state_dim,))\n",
        "        dense1 = tf.keras.layers.Dense(400, activation='relu')(state_input)\n",
        "        dense2 = tf.keras.layers.Dense(300, activation='relu')(dense1)\n",
        "        output = self.max_action * tf.keras.layers.Dense(action_dim, activation='tanh')(dense2)\n",
        "\n",
        "        self.model = tf.keras.Model(state_input, output)\n",
        "\n",
        "    def __call__(self, state):\n",
        "        return self.model(state)\n",
        "\n",
        "class Critic:\n",
        "    def __init__(self, state_dim, action_dim):\n",
        "        self.state_dim = state_dim\n",
        "        self.action_dim = action_dim\n",
        "\n",
        "        state_input = tf.keras.layers.Input(shape=(state_dim,))\n",
        "        action_input = tf.keras.layers.Input(shape=(action_dim,))\n",
        "        concat1 = tf.keras.layers.Concatenate()([state_input, action_input])\n",
        "        dense1 = tf.keras.layers.Dense(400, activation='relu')(concat1)\n",
        "        dense2 = tf.keras.layers.Dense(300, activation='relu')(dense1)\n",
        "        output1 = tf.keras.layers.Dense(1)(dense2)\n",
        "\n",
        "        self.model1 = tf.keras.Model([state_input, action_input], output1)\n",
        "\n",
        "        concat2 = tf.keras.layers.Concatenate()([state_input, action_input])\n",
        "        dense3 = tf.keras.layers.Dense(400, activation='relu')(concat2)\n",
        "        dense4 = tf.keras.layers.Dense(300, activation='relu')(dense3)\n",
        "        output2 = tf.keras.layers.Dense(1)(dense4)\n",
        "\n",
        "        self.model2 = tf.keras.Model([state_input, action_input], output2)\n",
        "\n",
        "    def __call__(self, state, action):\n",
        "        q1 = self.model1([state, action])\n",
        "        q2 = self.model2([state, action])\n",
        "        return q1, q2"
      ],
      "metadata": {
        "id": "O6Fvz_b-Y4ze",
        "colab": {
          "base_uri": "https://localhost:8080/"
        },
        "outputId": "86d7e5fc-70d0-41cd-c785-a49def67a869"
      },
      "execution_count": null,
      "outputs": [
        {
          "output_type": "stream",
          "name": "stderr",
          "text": [
            "/usr/local/lib/python3.10/dist-packages/ipykernel/ipkernel.py:283: DeprecationWarning: `should_run_async` will not call `transform_cell` automatically in the future. Please pass the result to `transformed_cell` argument and any exception that happen during thetransform in `preprocessing_exc_tuple` in IPython 7.17 and above.\n",
            "  and should_run_async(code)\n"
          ]
        }
      ]
    },
    {
      "cell_type": "code",
      "source": [
        "class TD3:\n",
        "    def __init__(self, state_dim, action_dim, max_action):\n",
        "        self.state_dim = state_dim\n",
        "        self.action_dim = action_dim\n",
        "        self.max_action = max_action\n",
        "\n",
        "        self.actor = Actor(state_dim, action_dim, max_action)\n",
        "        self.actor_target = Actor(state_dim, action_dim, max_action)\n",
        "        self.actor_target.model.set_weights(self.actor.model.get_weights())\n",
        "\n",
        "        self.critic = Critic(state_dim, action_dim)\n",
        "        self.critic_target = Critic(state_dim, action_dim)\n",
        "        self.critic_target.model1.set_weights(self.critic.model1.get_weights())\n",
        "        self.critic_target.model2.set_weights(self.critic.model2.get_weights())\n",
        "\n",
        "        self.actor_optimizer = tf.keras.optimizers.Adam(learning_rate=1e-3)\n",
        "        self.critic_optimizer = tf.keras.optimizers.Adam(learning_rate=1e-3)\n",
        "\n",
        "    def select_action(self, state):\n",
        "        state = tf.convert_to_tensor([state], dtype=tf.float32)\n",
        "        return self.actor(state)[0].numpy()\n",
        "\n",
        "    def train(self, replay_buffer, batch_size=100):\n",
        "        state, action, next_state, reward, done = replay_buffer.sample(batch_size)\n",
        "\n",
        "        noise = tf.clip_by_value(tf.random.normal(shape=(batch_size, self.action_dim), mean=0.0, stddev=0.2), -0.5, 0.5)\n",
        "        next_action = tf.clip_by_value(self.actor_target(next_state) + noise, -self.max_action, self.max_action)\n",
        "\n",
        "        target_q1, target_q2 = self.critic_target(next_state, next_action)\n",
        "        target_q = tf.minimum(target_q1, target_q2)\n",
        "        target_q = reward + (1 - done) * 0.99 * target_q\n",
        "\n",
        "        with tf.GradientTape(persistent=True) as tape:\n",
        "            q1, q2 = self.critic(state, action)\n",
        "            critic_loss = tf.reduce_mean((q1 - target_q) ** 2 + (q2 - target_q) ** 2)\n",
        "\n",
        "        critic_grads = tape.gradient(critic_loss, self.critic.model1.trainable_variables + self.critic.model2.trainable_variables)\n",
        "        self.critic_optimizer.apply_gradients(zip(critic_grads, self.critic.model1.trainable_variables + self.critic.model2.trainable_variables))\n",
        "\n",
        "        with tf.GradientTape() as tape:\n",
        "            actor_loss = -tf.reduce_mean(self.critic(state, self.actor(state))[0])\n",
        "\n",
        "        actor_grads = tape.gradient(actor_loss, self.actor.model.trainable_variables)\n",
        "        self.actor_optimizer.apply_gradients(zip(actor_grads, self.actor.model.trainable_variables))\n",
        "\n",
        "        for param, target_param in zip(self.critic.model1.trainable_variables + self.critic.model2.trainable_variables,\n",
        "                                       self.critic_target.model1.trainable_variables + self.critic_target.model2.trainable_variables):\n",
        "            target_param.assign(0.995 * target_param + 0.005 * param)\n",
        "\n",
        "        for param, target_param in zip(self.actor.model.trainable_variables,\n",
        "                                       self.actor_target.model.trainable_variables):\n",
        "            target_param.assign(0.995 * target_param + 0.005 * param)\n"
      ],
      "metadata": {
        "id": "WOpsNeSzZceK"
      },
      "execution_count": null,
      "outputs": []
    },
    {
      "cell_type": "code",
      "source": [
        "class ReplayBuffer:\n",
        "    def __init__(self, state_dim, action_dim, max_size=int(1e6)):\n",
        "        self.state_dim = state_dim\n",
        "        self.action_dim = action_dim\n",
        "        self.max_size = max_size\n",
        "        self.ptr = 0\n",
        "        self.size = 0\n",
        "\n",
        "        self.state = np.zeros((max_size, state_dim))\n",
        "        self.action = np.zeros((max_size, action_dim))\n",
        "        self.next_state = np.zeros((max_size, state_dim))\n",
        "        self.reward = np.zeros((max_size, 1))\n",
        "        self.done = np.zeros((max_size, 1))\n",
        "\n",
        "    def add(self, state, action, next_state, reward, done):\n",
        "        self.state[self.ptr] = state\n",
        "        self.action[self.ptr] = action\n",
        "        self.next_state[self.ptr] = next_state\n",
        "        self.reward[self.ptr] = reward\n",
        "        self.done[self.ptr] = done\n",
        "\n",
        "        self.ptr = (self.ptr + 1) % self.max_size\n",
        "        self.size = min(self.size + 1, self.max_size)\n",
        "\n",
        "    def sample(self, batch_size):\n",
        "        ind = np.random.randint(0, self.size, size=batch_size)\n",
        "\n",
        "        return (tf.convert_to_tensor(self.state[ind], dtype=tf.float32),\n",
        "                tf.convert_to_tensor(self.action[ind], dtype=tf.float32),\n",
        "                tf.convert_to_tensor(self.next_state[ind], dtype=tf.float32),\n",
        "                tf.convert_to_tensor(self.reward[ind], dtype=tf.float32),\n",
        "                tf.convert_to_tensor(self.done[ind], dtype=tf.float32))\n",
        "\n",
        "state_dim = env.observation_space.shape[0]\n",
        "action_dim = env.action_space.shape[0]\n",
        "max_action = env.action_space.high[0]\n",
        "\n",
        "td3 = TD3(state_dim, action_dim, max_action)\n",
        "replay_buffer = ReplayBuffer(state_dim, action_dim)\n",
        "\n",
        "episode_rewards = []\n",
        "\n",
        "for episode in range(100):\n",
        "    state = env.reset()\n",
        "    episode_reward = 0\n",
        "\n",
        "    for step in range(env._max_episode_steps):\n",
        "        action = td3.select_action(state)\n",
        "        next_state, reward, done, _ = env.step(action)\n",
        "        replay_buffer.add(state, action, next_state, reward, done)\n",
        "        td3.train(replay_buffer)\n",
        "\n",
        "        state = next_state\n",
        "        episode_reward += reward\n",
        "\n",
        "        if done:\n",
        "            break\n",
        "\n",
        "    episode_rewards.append(episode_reward)\n",
        "    print(f'Episode: {episode}, Reward: {episode_reward}')"
      ],
      "metadata": {
        "colab": {
          "base_uri": "https://localhost:8080/"
        },
        "id": "MVkGrjBVaeOV",
        "outputId": "41536fbf-528d-4732-eed1-beec6390f900"
      },
      "execution_count": null,
      "outputs": [
        {
          "output_type": "stream",
          "name": "stdout",
          "text": [
            "Episode: 0, Reward: -0.18224693224713603\n",
            "Episode: 1, Reward: -0.033947085683879615\n",
            "Episode: 2, Reward: -0.04988408860818491\n",
            "Episode: 3, Reward: -0.06458329421687595\n",
            "Episode: 4, Reward: -0.1282065590433787\n",
            "Episode: 5, Reward: -0.12345816516734551\n",
            "Episode: 6, Reward: -0.07287428024298306\n",
            "Episode: 7, Reward: -0.06764929739113196\n",
            "Episode: 8, Reward: -0.04102419535788035\n",
            "Episode: 9, Reward: -0.07782976480143732\n",
            "Episode: 10, Reward: -0.0680326191380641\n",
            "Episode: 11, Reward: -0.0695133344280816\n",
            "Episode: 12, Reward: -0.06362663475962045\n",
            "Episode: 13, Reward: -0.09221440798748384\n",
            "Episode: 14, Reward: -0.15273392052359125\n",
            "Episode: 15, Reward: -0.2710411267256031\n",
            "Episode: 16, Reward: -0.254110457168784\n",
            "Episode: 17, Reward: -0.06902910071854797\n",
            "Episode: 18, Reward: -0.013180251273925836\n",
            "Episode: 19, Reward: -0.057534772910814984\n",
            "Episode: 20, Reward: -0.15788025986301257\n",
            "Episode: 21, Reward: -0.05330462314273602\n",
            "Episode: 22, Reward: -0.08937408004367904\n",
            "Episode: 23, Reward: -0.04510349928892898\n",
            "Episode: 24, Reward: -0.10722914033087358\n",
            "Episode: 25, Reward: -0.2054411999342244\n",
            "Episode: 26, Reward: -0.0737910142862184\n",
            "Episode: 27, Reward: -0.052352170546298815\n",
            "Episode: 28, Reward: -0.046375952508830656\n",
            "Episode: 29, Reward: -0.15529704101189026\n",
            "Episode: 30, Reward: -0.4476409260388372\n",
            "Episode: 31, Reward: -0.3445245783758567\n",
            "Episode: 32, Reward: -0.4226106820900812\n",
            "Episode: 33, Reward: -0.2116483159033785\n",
            "Episode: 34, Reward: -0.16868959634115227\n",
            "Episode: 35, Reward: -0.1976765219764584\n",
            "Episode: 36, Reward: -0.29306903728499023\n",
            "Episode: 37, Reward: -0.149198026474878\n",
            "Episode: 38, Reward: -0.1313763766712709\n",
            "Episode: 39, Reward: -0.04818418249288822\n",
            "Episode: 40, Reward: -0.014041510579245945\n",
            "Episode: 41, Reward: -0.03149655088065049\n",
            "Episode: 42, Reward: -0.022731400041791396\n",
            "Episode: 43, Reward: -0.013151836896657018\n",
            "Episode: 44, Reward: -0.03483220388314245\n",
            "Episode: 45, Reward: -0.1311320569572257\n",
            "Episode: 46, Reward: -0.5536740512472971\n",
            "Episode: 47, Reward: -0.1937747974699651\n",
            "Episode: 48, Reward: -0.09329329461855211\n",
            "Episode: 49, Reward: -0.2543757623197023\n",
            "Episode: 50, Reward: -0.2040335177799199\n",
            "Episode: 51, Reward: -0.33970076811380306\n",
            "Episode: 52, Reward: -0.26261938478179697\n",
            "Episode: 53, Reward: -0.14378846553054006\n",
            "Episode: 54, Reward: -0.1244799043553148\n",
            "Episode: 55, Reward: -0.36299921343867003\n",
            "Episode: 56, Reward: -0.1850921898486854\n",
            "Episode: 57, Reward: -0.15295753256738767\n",
            "Episode: 58, Reward: -0.10282903086590581\n",
            "Episode: 59, Reward: -0.14574000377697544\n",
            "Episode: 60, Reward: -0.19324791872685704\n",
            "Episode: 61, Reward: -0.15295416731427777\n",
            "Episode: 62, Reward: -0.3675310251528605\n",
            "Episode: 63, Reward: -0.20454385017547716\n",
            "Episode: 64, Reward: -0.18018348890118943\n",
            "Episode: 65, Reward: -0.2606844902976472\n",
            "Episode: 66, Reward: -0.2351239860834376\n",
            "Episode: 67, Reward: -0.3041185854365609\n",
            "Episode: 68, Reward: -0.20029045515783597\n",
            "Episode: 69, Reward: -0.41503099263390375\n",
            "Episode: 70, Reward: -0.12316596410136672\n",
            "Episode: 71, Reward: -0.22886586895585376\n",
            "Episode: 72, Reward: -0.27490484006300275\n",
            "Episode: 73, Reward: -0.1379211499099851\n",
            "Episode: 74, Reward: -0.10959183948077693\n",
            "Episode: 75, Reward: -0.10174011843419886\n",
            "Episode: 76, Reward: -0.1671133362118536\n",
            "Episode: 77, Reward: -0.047343117804479855\n",
            "Episode: 78, Reward: -0.061179625625684214\n",
            "Episode: 79, Reward: -0.11247045007383878\n",
            "Episode: 80, Reward: -0.10099075227883995\n",
            "Episode: 81, Reward: -0.049448168807629894\n",
            "Episode: 82, Reward: -0.0411151672220102\n",
            "Episode: 83, Reward: -0.21952478780151796\n",
            "Episode: 84, Reward: -0.049350046765692185\n",
            "Episode: 85, Reward: -0.03732745792107132\n",
            "Episode: 86, Reward: -0.0835584041673393\n",
            "Episode: 87, Reward: -0.019264647396780354\n",
            "Episode: 88, Reward: -0.050337826829954975\n",
            "Episode: 89, Reward: -0.18226369956279279\n",
            "Episode: 90, Reward: -0.1853852029833559\n",
            "Episode: 91, Reward: -0.06827921836455923\n",
            "Episode: 92, Reward: -0.03976681022862543\n",
            "Episode: 93, Reward: -0.08017580175703785\n",
            "Episode: 94, Reward: -0.15688398039797993\n",
            "Episode: 95, Reward: -0.05090048451415957\n",
            "Episode: 96, Reward: -0.07260787615533\n",
            "Episode: 97, Reward: -0.09983830170981309\n",
            "Episode: 98, Reward: -0.1885090004033854\n",
            "Episode: 99, Reward: -0.27777676871382967\n"
          ]
        }
      ]
    },
    {
      "cell_type": "code",
      "source": [
        "# Plot the episode rewards\n",
        "plt.plot(episode_rewards)\n",
        "plt.xlabel('Episode')\n",
        "plt.ylabel('Reward')\n",
        "plt.show()"
      ],
      "metadata": {
        "id": "T51XPAhZa2Bd",
        "colab": {
          "base_uri": "https://localhost:8080/",
          "height": 449
        },
        "outputId": "21ee0d4f-9513-4a4c-a1c3-5ff05e376bac"
      },
      "execution_count": null,
      "outputs": [
        {
          "output_type": "display_data",
          "data": {
            "text/plain": [
              "<Figure size 640x480 with 1 Axes>"
            ],
            "image/png": "[encoded data removed]"
          },
          "metadata": {}
        }
      ]
    },
    {
      "cell_type": "code",
      "source": [],
      "metadata": {
        "id": "SQJ1OySRb0q2"
      },
      "execution_count": null,
      "outputs": []
    }
  ]
}