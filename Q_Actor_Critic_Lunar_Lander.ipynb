{
 "cells": [
  {
   "cell_type": "code",
   "execution_count": 3,
   "metadata": {
    "colab": {
     "base_uri": "https://localhost:8080/"
    },
    "id": "fzkF08puvbXL",
    "outputId": "786cd52f-7971-4623-edec-a6988f390a40"
   },
   "outputs": [
    {
     "name": "stdout",
     "output_type": "stream",
     "text": [
      "Looking in indexes: https://pypi.org/simple, https://us-python.pkg.dev/colab-wheels/public/simple/\n",
      "Requirement already satisfied: gym[box2d] in /usr/local/lib/python3.9/dist-packages (0.25.2)\n",
      "Requirement already satisfied: importlib-metadata>=4.8.0 in /usr/local/lib/python3.9/dist-packages (from gym[box2d]) (6.4.1)\n",
      "Requirement already satisfied: cloudpickle>=1.2.0 in /usr/local/lib/python3.9/dist-packages (from gym[box2d]) (2.2.1)\n",
      "Requirement already satisfied: numpy>=1.18.0 in /usr/local/lib/python3.9/dist-packages (from gym[box2d]) (1.22.4)\n",
      "Requirement already satisfied: gym-notices>=0.0.4 in /usr/local/lib/python3.9/dist-packages (from gym[box2d]) (0.0.8)\n",
      "Collecting box2d-py==2.3.5\n",
      "  Downloading box2d-py-2.3.5.tar.gz (374 kB)\n",
      "\u001b[2K     \u001b[90m━━━━━━━━━━━━━━━━━━━━━━━━━━━━━━━━━━━━━━━\u001b[0m \u001b[32m374.4/374.4 kB\u001b[0m \u001b[31m7.0 MB/s\u001b[0m eta \u001b[36m0:00:00\u001b[0m\n",
      "\u001b[?25h  Preparing metadata (setup.py) ... \u001b[?25l\u001b[?25hdone\n",
      "Collecting pygame==2.1.0\n",
      "  Downloading pygame-2.1.0-cp39-cp39-manylinux_2_17_x86_64.manylinux2014_x86_64.whl (18.3 MB)\n",
      "\u001b[2K     \u001b[90m━━━━━━━━━━━━━━━━━━━━━━━━━━━━━━━━━━━━━━━━\u001b[0m \u001b[32m18.3/18.3 MB\u001b[0m \u001b[31m33.3 MB/s\u001b[0m eta \u001b[36m0:00:00\u001b[0m\n",
      "\u001b[?25hCollecting swig==4.*\n",
      "  Downloading swig-4.1.1-py2.py3-none-manylinux_2_5_x86_64.manylinux1_x86_64.whl (1.8 MB)\n",
      "\u001b[2K     \u001b[90m━━━━━━━━━━━━━━━━━━━━━━━━━━━━━━━━━━━━━━━━\u001b[0m \u001b[32m1.8/1.8 MB\u001b[0m \u001b[31m31.3 MB/s\u001b[0m eta \u001b[36m0:00:00\u001b[0m\n",
      "\u001b[?25hRequirement already satisfied: zipp>=0.5 in /usr/local/lib/python3.9/dist-packages (from importlib-metadata>=4.8.0->gym[box2d]) (3.15.0)\n",
      "Building wheels for collected packages: box2d-py\n",
      "  \u001b[1;31merror\u001b[0m: \u001b[1msubprocess-exited-with-error\u001b[0m\n",
      "  \n",
      "  \u001b[31m×\u001b[0m \u001b[32mpython setup.py bdist_wheel\u001b[0m did not run successfully.\n",
      "  \u001b[31m│\u001b[0m exit code: \u001b[1;36m1\u001b[0m\n",
      "  \u001b[31m╰─>\u001b[0m See above for output.\n",
      "  \n",
      "  \u001b[1;35mnote\u001b[0m: This error originates from a subprocess, and is likely not a problem with pip.\n",
      "  Building wheel for box2d-py (setup.py) ... \u001b[?25lerror\n",
      "\u001b[31m  ERROR: Failed building wheel for box2d-py\u001b[0m\u001b[31m\n",
      "\u001b[0m\u001b[?25h  Running setup.py clean for box2d-py\n",
      "Failed to build box2d-py\n",
      "Installing collected packages: swig, box2d-py, pygame\n",
      "  Running setup.py install for box2d-py ... \u001b[?25l\u001b[?25hdone\n",
      "\u001b[33m  DEPRECATION: box2d-py was installed using the legacy 'setup.py install' method, because a wheel could not be built for it. pip 23.1 will enforce this behaviour change. A possible replacement is to fix the wheel build issue reported above. Discussion can be found at https://github.com/pypa/pip/issues/8368\u001b[0m\u001b[33m\n",
      "\u001b[0m  Attempting uninstall: pygame\n",
      "    Found existing installation: pygame 2.3.0\n",
      "    Uninstalling pygame-2.3.0:\n",
      "      Successfully uninstalled pygame-2.3.0\n",
      "Successfully installed box2d-py-2.3.5 pygame-2.1.0 swig-4.1.1\n"
     ]
    }
   ],
   "source": [
    "pip install gym[box2d]"
   ]
  },
  {
   "cell_type": "code",
   "execution_count": 6,
   "metadata": {
    "id": "_asT-5qdoECP"
   },
   "outputs": [],
   "source": [
    "import gym\n",
    "import numpy as np\n",
    "import tensorflow as tf\n",
    "from tensorflow.keras import layers\n",
    "import matplotlib.pyplot as plt"
   ]
  },
  {
   "cell_type": "code",
   "execution_count": 7,
   "metadata": {
    "colab": {
     "base_uri": "https://localhost:8080/"
    },
    "id": "oA4GXgMEoSmr",
    "outputId": "3e75edc5-3133-4f2b-8c88-268b968ae563"
   },
   "outputs": [],
   "source": [
    "env = gym.make('LunarLander-v2')\n",
    "num_states = env.observation_space.shape[0]\n",
    "num_actions = env.action_space.n\n",
    "num_episodes = 1\n",
    "gamma = 0.99\n",
    "learning_rate = 0.001\n"
   ]
  },
  {
   "cell_type": "code",
   "execution_count": 8,
   "metadata": {
    "id": "aB4X_M6noUMV"
   },
   "outputs": [],
   "source": [
    "class ActorCritic(tf.keras.Model):\n",
    "    def __init__(self, num_actions):\n",
    "        super().__init__()\n",
    "        self.common = layers.Dense(32, activation=\"relu\")\n",
    "        self.actor = layers.Dense(num_actions, activation=\"softmax\")\n",
    "        self.critic = layers.Dense(1)\n",
    "\n",
    "    def call(self, inputs):\n",
    "        x = self.common(inputs)\n",
    "        return self.actor(x), self.critic(x)"
   ]
  },
  {
   "cell_type": "code",
   "execution_count": 9,
   "metadata": {
    "id": "2hX62LTj9ymg"
   },
   "outputs": [],
   "source": [
    "class QActorCriticAgent:\n",
    "    def __init__(self, num_states, num_actions):\n",
    "        self.num_states = num_states\n",
    "        self.num_actions = num_actions\n",
    "        self.model = ActorCritic(num_actions)\n",
    "        self.optimizer = tf.keras.optimizers.Adam(learning_rate)\n",
    "\n",
    "    def act(self, state):\n",
    "        state = np.expand_dims(state, axis=0)\n",
    "        action_probs, _ = self.model.predict(state)\n",
    "        action = np.random.choice(self.num_actions, p=np.squeeze(action_probs))\n",
    "        return action\n",
    "\n",
    "    def update(self, state, action, reward, next_state, done):\n",
    "        state = np.expand_dims(state, axis=0)\n",
    "        next_state = np.expand_dims(next_state, axis=0)\n",
    "\n",
    "        _, critic_value = self.model.predict(state)\n",
    "        _, next_critic_value = self.model.predict(next_state)\n",
    "\n",
    "        target = reward + gamma * next_critic_value * (1 - int(done))\n",
    "        td_error = target - critic_value\n",
    "\n",
    "        with tf.GradientTape() as tape:\n",
    "            action_probs, critic_value = self.model(state)\n",
    "            _, next_critic_value = self.model(next_state)\n",
    "\n",
    "            target = reward + gamma * next_critic_value * (1 - int(done))\n",
    "            td_error = target - critic_value\n",
    "\n",
    "            log_action_probs = tf.math.log(action_probs)\n",
    "            log_prob = tf.reduce_sum(\n",
    "                tf.one_hot(action, self.num_actions) * log_action_probs, axis=1\n",
    "            )\n",
    "\n",
    "            actor_loss = -tf.reduce_mean(log_prob * td_error)\n",
    "            critic_loss = td_error ** 2\n",
    "            total_loss = actor_loss + 0.5 * critic_loss\n",
    "\n",
    "        grads = tape.gradient(total_loss, self.model.trainable_variables)\n",
    "        self.optimizer.apply_gradients(zip(grads, self.model.trainable_variables))\n"
   ]
  },
  {
   "cell_type": "code",
   "execution_count": 10,
   "metadata": {
    "colab": {
     "base_uri": "https://localhost:8080/",
     "height": 1000
    },
    "id": "Z2gn7YUc9zfN",
    "outputId": "83785287-a245-420b-b9cb-a1f535971d18"
   },
   "outputs": [
    {
     "name": "stdout",
     "output_type": "stream",
     "text": [
      "Episode 1: reward = -151.32932131131858\n"
     ]
    }
   ],
   "source": [
    "agent = QActorCriticAgent(num_states, num_actions)\n",
    "episode_rewards = []\n",
    "\n",
    "for episode in range(num_episodes):\n",
    "    state = env.reset()\n",
    "    episode_reward = 0\n",
    "\n",
    "    while True:\n",
    "        action = agent.act(state)\n",
    "        next_state, reward, done, _ = env.step(action)\n",
    "        agent.update(state, action, reward, next_state, done)\n",
    "\n",
    "        state = next_state\n",
    "        episode_reward += reward\n",
    "\n",
    "        if done:\n",
    "            break\n",
    "\n",
    "    episode_rewards.append(episode_reward)\n",
    "    print(f\"Episode {episode + 1}: reward = {episode_reward}\")\n"
   ]
  },
  {
   "cell_type": "code",
   "execution_count": 11,
   "metadata": {
    "colab": {
     "base_uri": "https://localhost:8080/"
    },
    "id": "46aXmiFx91FR",
    "outputId": "a934711f-8506-4798-e1eb-9a02f4ab6371"
   },
   "outputs": [
    {
     "data": {
      "image/png": "[encoded data removed]",
      "text/plain": [
       "<Figure size 432x288 with 1 Axes>"
      ]
     },
     "metadata": {
      "needs_background": "light"
     },
     "output_type": "display_data"
    },
    {
     "data": {
      "text/plain": [
       "<Figure size 432x288 with 0 Axes>"
      ]
     },
     "metadata": {},
     "output_type": "display_data"
    }
   ],
   "source": [
    "import matplotlib.pyplot as plt\n",
    "\n",
    "plt.plot(episode_rewards)\n",
    "plt.xlabel(\"Episode\")\n",
    "plt.ylabel(\"Total Reward\")\n",
    "plt.show()\n",
    "plt.savefig('Total_Reward_QAC_Cartpole')"
   ]
  },
  {
   "cell_type": "markdown",
   "metadata": {
    "id": "yO1BO9rq-pYp"
   },
   "source": [
    "# Testing the agent for 20 Episodes (Agent choosing only greedy actions from the learnt policy)"
   ]
  },
  {
   "cell_type": "code",
   "execution_count": 12,
   "metadata": {
    "id": "KPaJA-MP-kEU"
   },
   "outputs": [
    {
     "name": "stdout",
     "output_type": "stream",
     "text": [
      "Test episode 1: reward = -217.44186114144844\n"
     ]
    },
    {
     "data": {
      "image/png": "[encoded data removed]",
      "text/plain": [
       "<Figure size 432x288 with 1 Axes>"
      ]
     },
     "metadata": {
      "needs_background": "light"
     },
     "output_type": "display_data"
    },
    {
     "data": {
      "text/plain": [
       "<Figure size 432x288 with 0 Axes>"
      ]
     },
     "metadata": {},
     "output_type": "display_data"
    }
   ],
   "source": [
    "test_episode_rewards = []\n",
    "\n",
    "for episode in range(1):\n",
    "    state = env.reset()\n",
    "    episode_reward = 0\n",
    "\n",
    "    while True:\n",
    "        action_probs, _ = agent.model.predict(np.expand_dims(state, axis=0))\n",
    "        action = np.argmax(action_probs)\n",
    "\n",
    "        next_state, reward, done, _ = env.step(action)\n",
    "\n",
    "        state = next_state\n",
    "        episode_reward += reward\n",
    "\n",
    "        if done:\n",
    "            break\n",
    "\n",
    "    test_episode_rewards.append(episode_reward)\n",
    "    print(f\"Test episode {episode + 1}: reward = {episode_reward}\")\n",
    "\n",
    "plt.plot(test_episode_rewards)\n",
    "plt.xlabel(\"Episode\")\n",
    "plt.ylabel(\"Total Reward\")\n",
    "plt.show()\n",
    "plt.savefig('Testing_Total_Reward_QAC_Cartpole')"
   ]
  },
  {
   "cell_type": "code",
   "execution_count": null,
   "metadata": {
    "id": "AupmlqKy_V4L"
   },
   "outputs": [],
   "source": []
  }
 ],
 "metadata": {
  "colab": {
   "provenance": []
  },
  "kernelspec": {
   "display_name": "Python 3 (ipykernel)",
   "language": "python",
   "name": "python3"
  },
  "language_info": {
   "codemirror_mode": {
    "name": "ipython",
    "version": 3
   },
   "file_extension": ".py",
   "mimetype": "text/x-python",
   "name": "python",
   "nbconvert_exporter": "python",
   "pygments_lexer": "ipython3",
   "version": "3.7.9"
  }
 },
 "nbformat": 4,
 "nbformat_minor": 1
}
